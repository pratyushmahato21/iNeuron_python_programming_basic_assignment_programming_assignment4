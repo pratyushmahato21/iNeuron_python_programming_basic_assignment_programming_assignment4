{
 "cells": [
  {
   "cell_type": "markdown",
   "id": "d549aad4",
   "metadata": {},
   "source": [
    "1. Write a Python Program to Find the Factorial of a Number?"
   ]
  },
  {
   "cell_type": "code",
   "execution_count": 11,
   "id": "29f01d7f",
   "metadata": {},
   "outputs": [
    {
     "name": "stdout",
     "output_type": "stream",
     "text": [
      "Enter a number: 10\n",
      "the factorial of 10 is 3628800\n"
     ]
    }
   ],
   "source": [
    "num = int(input(\"Enter a number: \"))\n",
    "l = []\n",
    "for i in range(num,0,-1):\n",
    "    l.append(i)\n",
    "l\n",
    "m = 1\n",
    "for j in l:\n",
    "    m = m * j\n",
    "print(f\"the factorial of {num} is {m}\")\n",
    "    "
   ]
  },
  {
   "cell_type": "markdown",
   "id": "71d9d554",
   "metadata": {},
   "source": [
    "2. Write a Python Program to Display the multiplication Table"
   ]
  },
  {
   "cell_type": "code",
   "execution_count": 21,
   "id": "bc2d34e1",
   "metadata": {
    "scrolled": false
   },
   "outputs": [
    {
     "name": "stdout",
     "output_type": "stream",
     "text": [
      "Enter a number: 23\n",
      "the multiplication table of 23 is\n",
      "23\n",
      "46\n",
      "69\n",
      "92\n",
      "115\n",
      "138\n",
      "161\n",
      "184\n",
      "207\n",
      "230\n"
     ]
    }
   ],
   "source": [
    "num = int(input(\"Enter a number: \"))\n",
    "print(f\"the multiplication table of {num} is\")\n",
    "for i in range(1,11):\n",
    "    m = i * num\n",
    "    print(m)"
   ]
  },
  {
   "cell_type": "markdown",
   "id": "cf1eca00",
   "metadata": {},
   "source": [
    "3. Write a Python Program to Print the Fibonacci sequence?"
   ]
  },
  {
   "cell_type": "code",
   "execution_count": 21,
   "id": "552d5974",
   "metadata": {},
   "outputs": [
    {
     "name": "stdout",
     "output_type": "stream",
     "text": [
      "How many numbers do you want? 5\n",
      "0\n",
      "1\n",
      "1\n",
      "2\n",
      "3\n"
     ]
    }
   ],
   "source": [
    "num = int(input(\"How many numbers do you want? \"))\n",
    "a = 0\n",
    "b = 1\n",
    "i = 0\n",
    "if num <= 0:\n",
    "    print(\"Invalid input\")\n",
    "elif num == 1:\n",
    "    print(a)\n",
    "else:\n",
    "    while i < num:\n",
    "        print(a)\n",
    "        c = a+b\n",
    "        a = b\n",
    "        b = c\n",
    "        i += 1"
   ]
  },
  {
   "cell_type": "markdown",
   "id": "b5a314e9",
   "metadata": {},
   "source": [
    "4. Write a Python Program to Check Armstrong Number?"
   ]
  },
  {
   "cell_type": "code",
   "execution_count": 2,
   "id": "15f90842",
   "metadata": {},
   "outputs": [
    {
     "name": "stdout",
     "output_type": "stream",
     "text": [
      "Enter a number: 407\n",
      "407 is an Armstrong number\n"
     ]
    }
   ],
   "source": [
    "num = int(input(\"Enter a number: \"))\n",
    "s = str(num)   #converted num into string\n",
    "st = list(str(num))  #converted num into list to iterate\n",
    "\n",
    "sum = 0\n",
    "for i in st:\n",
    "    sum = sum + int(i)**(len(s))\n",
    "\n",
    "if num == sum:\n",
    "   print(f\"{num} is an Armstrong number\")\n",
    "else:\n",
    "   print(f\"{num} is not an Armstrong number\")"
   ]
  },
  {
   "cell_type": "markdown",
   "id": "38150611",
   "metadata": {},
   "source": [
    "5. Write a Python Program to Find Armstrong Number in an Interval?"
   ]
  },
  {
   "cell_type": "code",
   "execution_count": 3,
   "id": "36d7de12",
   "metadata": {},
   "outputs": [
    {
     "name": "stdout",
     "output_type": "stream",
     "text": [
      "Enter the starting number: 300\n",
      "Enter the final number: 500\n",
      "370 is an Armstrong number between 300 & 500\n",
      "371 is an Armstrong number between 300 & 500\n",
      "407 is an Armstrong number between 300 & 500\n"
     ]
    }
   ],
   "source": [
    "a = int(input(\"Enter the starting number: \"))\n",
    "b = int(input(\"Enter the final number: \"))\n",
    "\n",
    "for num in range(a,b+1):\n",
    "    s = str(num)   #converted num into string\n",
    "    st = list(str(num))  #converted num into list to iterate\n",
    "\n",
    "    sum = 0\n",
    "    for i in st:\n",
    "        sum = sum + int(i)**(len(s))\n",
    "\n",
    "    if num == sum:\n",
    "       print(f\"{num} is an Armstrong number between {a} & {b}\")\n",
    "    "
   ]
  },
  {
   "cell_type": "markdown",
   "id": "1924004c",
   "metadata": {},
   "source": [
    "6. Write a Python Program to Find the Sum of Natural Numbers?"
   ]
  },
  {
   "cell_type": "code",
   "execution_count": 14,
   "id": "5f70e0d5",
   "metadata": {},
   "outputs": [
    {
     "name": "stdout",
     "output_type": "stream",
     "text": [
      "Enter the starting number: 100\n",
      "Enter the final number: 200\n",
      "15150\n"
     ]
    }
   ],
   "source": [
    "a = int(input(\"Enter the starting number: \"))\n",
    "b = int(input(\"Enter the final number: \"))\n",
    "if a <= 0 and b <= 0:\n",
    "    print(\"wrong input. please enter natural numbers\")\n",
    "elif a <= 0 or b <= 0:\n",
    "    print(\"wrong input, please enter natural numbers\")\n",
    "else:\n",
    "    sum = 0\n",
    "    for num in range(a,b+1):\n",
    "        sum = sum + num\n",
    "    print(sum)"
   ]
  },
  {
   "cell_type": "code",
   "execution_count": null,
   "id": "7ad6b902",
   "metadata": {},
   "outputs": [],
   "source": []
  }
 ],
 "metadata": {
  "kernelspec": {
   "display_name": "Python 3",
   "language": "python",
   "name": "python3"
  },
  "language_info": {
   "codemirror_mode": {
    "name": "ipython",
    "version": 3
   },
   "file_extension": ".py",
   "mimetype": "text/x-python",
   "name": "python",
   "nbconvert_exporter": "python",
   "pygments_lexer": "ipython3",
   "version": "3.8.8"
  }
 },
 "nbformat": 4,
 "nbformat_minor": 5
}
